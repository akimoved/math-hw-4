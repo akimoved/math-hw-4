{
 "cells": [
  {
   "cell_type": "markdown",
   "metadata": {},
   "source": [
    "# Level 0"
   ]
  },
  {
   "cell_type": "code",
   "execution_count": 4,
   "metadata": {},
   "outputs": [],
   "source": [
    "import numpy as np\n",
    "from scipy.misc import derivative\n",
    "from sympy import *"
   ]
  },
  {
   "cell_type": "code",
   "execution_count": 5,
   "metadata": {},
   "outputs": [],
   "source": [
    "def f1(x):\n",
    "    return x**5 + 4*np.sin(2*x) + np.cos(3*x + 3)"
   ]
  },
  {
   "cell_type": "code",
   "execution_count": 14,
   "metadata": {},
   "outputs": [
    {
     "name": "stdout",
     "output_type": "stream",
     "text": [
      "Первая производная в т. x0 = 1: 2.509071801881646\n",
      "\n",
      "Вторая производная в т. x0 = 1: -3.19033688356285\n"
     ]
    }
   ],
   "source": [
    "print('Первая производная в т. x0 = 1:',derivative(f1, 1.0, dx=1e-6, n=1))\n",
    "print('\\nВторая производная в т. x0 = 1:',derivative(f1, 1.0, dx=1e-6, n=2))"
   ]
  },
  {
   "cell_type": "markdown",
   "metadata": {},
   "source": [
    "# Level 1"
   ]
  },
  {
   "cell_type": "code",
   "execution_count": 33,
   "metadata": {},
   "outputs": [
    {
     "name": "stdout",
     "output_type": "stream",
     "text": [
      "f(x) = sin(2*x + 1)**5\n",
      "df/dx =  10*sin(2*x + 1)**4*cos(2*x + 1)\n",
      "d2f/dx2 =  -20*sin(2*x + 1)**5 + 80*sin(2*x + 1)**3*cos(2*x + 1)**2\n"
     ]
    }
   ],
   "source": [
    "x = symbols('x')\n",
    "trig = (sin(2*x + 1))**5\n",
    "print('f(x) =', trig)\n",
    "\n",
    "diff_trig = diff(trig, x)\n",
    "print('df/dx = ', diff_trig)\n",
    "\n",
    "sec_diff_trig = diff(diff_trig, x)\n",
    "print('d2f/dx2 = ', sec_diff_trig)"
   ]
  },
  {
   "cell_type": "code",
   "execution_count": 41,
   "metadata": {},
   "outputs": [],
   "source": [
    "diff_one = plotting.plot(diff_trig, (x,-5,5), show=False)\n",
    "diff_two = plotting.plot(sec_diff_trig, (x,-5,5), show=False, line_color='red')\n",
    "diff_one.append(diff_two[0])\n",
    "diff_one.show()"
   ]
  }
 ],
 "metadata": {
  "kernelspec": {
   "display_name": "Python 3",
   "language": "python",
   "name": "python3"
  },
  "language_info": {
   "codemirror_mode": {
    "name": "ipython",
    "version": 3
   },
   "file_extension": ".py",
   "mimetype": "text/x-python",
   "name": "python",
   "nbconvert_exporter": "python",
   "pygments_lexer": "ipython3",
   "version": "3.8.5"
  }
 },
 "nbformat": 4,
 "nbformat_minor": 4
}
